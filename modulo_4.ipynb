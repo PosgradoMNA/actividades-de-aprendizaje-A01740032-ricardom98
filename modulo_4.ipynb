{
 "cells": [
  {
   "cell_type": "markdown",
   "metadata": {},
   "source": [
    "# Modulo 4 - Working with Data in Python"
   ]
  },
  {
   "cell_type": "markdown",
   "metadata": {},
   "source": [
    "### Reading Files with Open"
   ]
  },
  {
   "cell_type": "code",
   "execution_count": 28,
   "metadata": {},
   "outputs": [
    {
     "name": "stdout",
     "output_type": "stream",
     "text": [
      "This is line 1 \n",
      "This is line 2\n",
      "This is line 3\n",
      "True\n",
      "This is line 1 \n",
      "This is line 2\n",
      "This is line 3\n",
      "This is line\n",
      " 2\n",
      "\n"
     ]
    }
   ],
   "source": [
    "# Video\n",
    "\n",
    "# opening a file\n",
    "file1 = open('Example1.txt', 'r')\n",
    "\n",
    "# opening a file with 'with' it closes the file at the end\n",
    "with open('Example1.txt', 'r') as file1:\n",
    "  file_stuff=file1.read()\n",
    "  print(file_stuff)\n",
    "print(file1.closed)\n",
    "print(file_stuff)\n",
    "\n",
    "file1 = open('Example1.txt', 'r')\n",
    "\n",
    "# reading all lines\n",
    "file_stuff = file1.readline()\n",
    "\n",
    "# when added a number in the method, it reads every character\n",
    "file_stuff = file1.readline(12)\n",
    "print(file_stuff)\n",
    "file_stuff = file1.readline(4)\n",
    "print(file_stuff)"
   ]
  },
  {
   "cell_type": "code",
   "execution_count": 29,
   "metadata": {},
   "outputs": [
    {
     "name": "stderr",
     "output_type": "stream",
     "text": [
      "\"wget\" no se reconoce como un comando interno o externo,\n",
      "programa o archivo por lotes ejecutable.\n"
     ]
    }
   ],
   "source": [
    "# LAB\n",
    "\n",
    "## Uncomment these if working locally, else let the following code cell run.\n",
    "import urllib.request\n",
    "url = 'https://cf-courses-data.s3.us.cloud-object-storage.appdomain.cloud/IBMDeveloperSkillsNetwork-PY0101EN-SkillsNetwork/labs/Module%204/data/example1.txt'\n",
    "filename = 'Example1.txt'\n",
    "urllib.request.urlretrieve(url, filename)\n",
    "\n",
    "## Download Example file\n",
    "!wget -O /resources/data/Example1.txt https://cf-courses-data.s3.us.cloud-object-storage.appdomain.cloud/IBMDeveloperSkillsNetwork-PY0101EN-SkillsNetwork/labs/Module%204/data/example1.txt\n"
   ]
  },
  {
   "cell_type": "code",
   "execution_count": 13,
   "metadata": {},
   "outputs": [
    {
     "ename": "TypeError",
     "evalue": "'module' object is not callable",
     "output_type": "error",
     "traceback": [
      "\u001b[1;31m---------------------------------------------------------------------------\u001b[0m",
      "\u001b[1;31mTypeError\u001b[0m                                 Traceback (most recent call last)",
      "Cell \u001b[1;32mIn [13], line 13\u001b[0m\n\u001b[0;32m      9\u001b[0m         \u001b[38;5;28;01mwith\u001b[39;00m \u001b[38;5;28mopen\u001b[39m(filename, \u001b[38;5;124m\"\u001b[39m\u001b[38;5;124mwb\u001b[39m\u001b[38;5;124m\"\u001b[39m) \u001b[38;5;28;01mas\u001b[39;00m f:\n\u001b[0;32m     10\u001b[0m             f\u001b[38;5;241m.\u001b[39mwrite(\u001b[38;5;28;01mawait\u001b[39;00m response\u001b[38;5;241m.\u001b[39mbytes())\n\u001b[1;32m---> 13\u001b[0m \u001b[38;5;28;01mawait\u001b[39;00m download(filename, \u001b[38;5;124m\"\u001b[39m\u001b[38;5;124mExample1.txt\u001b[39m\u001b[38;5;124m\"\u001b[39m)\n\u001b[0;32m     15\u001b[0m \u001b[38;5;66;03m# read the Example1.txt\u001b[39;00m\n\u001b[0;32m     16\u001b[0m example1 \u001b[38;5;241m=\u001b[39m \u001b[38;5;124m\"\u001b[39m\u001b[38;5;124mExample1.txt\u001b[39m\u001b[38;5;124m\"\u001b[39m\n",
      "Cell \u001b[1;32mIn [13], line 7\u001b[0m, in \u001b[0;36mdownload\u001b[1;34m(url, filename)\u001b[0m\n\u001b[0;32m      6\u001b[0m \u001b[38;5;28;01masync\u001b[39;00m \u001b[38;5;28;01mdef\u001b[39;00m \u001b[38;5;21mdownload\u001b[39m(url, filename):\n\u001b[1;32m----> 7\u001b[0m     response \u001b[38;5;241m=\u001b[39m request(filename)\n\u001b[0;32m      8\u001b[0m     \u001b[38;5;28;01mif\u001b[39;00m response\u001b[38;5;241m.\u001b[39mstatus \u001b[38;5;241m==\u001b[39m \u001b[38;5;241m200\u001b[39m:\n\u001b[0;32m      9\u001b[0m         \u001b[38;5;28;01mwith\u001b[39;00m \u001b[38;5;28mopen\u001b[39m(filename, \u001b[38;5;124m\"\u001b[39m\u001b[38;5;124mwb\u001b[39m\u001b[38;5;124m\"\u001b[39m) \u001b[38;5;28;01mas\u001b[39;00m f:\n",
      "\u001b[1;31mTypeError\u001b[0m: 'module' object is not callable"
     ]
    }
   ],
   "source": [
    "from urllib import request\n",
    "import pandas as pd\n",
    "\n",
    "filename = \"https://cf-courses-data.s3.us.cloud-object-storage.appdomain.cloud/IBMDeveloperSkillsNetwork-PY0101EN-SkillsNetwork/labs/Module%204/data/example1.txt\"\n",
    "\n",
    "async def download(url, filename):\n",
    "    response = request(filename)\n",
    "    if response.status == 200:\n",
    "        with open(filename, \"wb\") as f:\n",
    "            f.write(await response.bytes())\n",
    "\n",
    "\n",
    "await download(filename, \"Example1.txt\")\n",
    "\n",
    "# read the Example1.txt\n",
    "example1 = \"Example1.txt\"\n",
    "file1 = open(example1, \"r\")\n",
    "\n",
    "# print the path of file\n",
    "file1.name\n",
    "\n",
    "# print the mode of file, either 'r' or 'w'\n",
    "file1.mode\n",
    "\n",
    "# read the file\n",
    "FileContent = file1.read()\n",
    "FileContent\n",
    "\n",
    "# print the file with '\\n' as a new line\n",
    "print(FileContent)\n",
    "\n",
    "# type of file content\n",
    "type(FileContent)\n",
    "\n",
    "# close file after finish\n",
    "file1.close()"
   ]
  },
  {
   "cell_type": "code",
   "execution_count": null,
   "metadata": {},
   "outputs": [],
   "source": [
    "# open files usign with\n",
    "\n",
    "with open(example1, \"r\") as file1:\n",
    "    FileContent = file1.read()\n",
    "    print(FileContent)\n",
    "\n",
    "# verify if the file is closed\n",
    "file1.closed\n",
    "\n",
    "# see the content of file\n",
    "print(FileContent)\n",
    "\n",
    "# read first four characters\n",
    "with open(example1, \"r\") as file1:\n",
    "    print(file1.read(4))\n",
    "\n",
    "# read certain amount of characters\n",
    "with open(example1, \"r\") as file1:\n",
    "    print(file1.read(4))\n",
    "    print(file1.read(4))\n",
    "    print(file1.read(7))\n",
    "    print(file1.read(15))\n",
    "\n",
    "# read one line\n",
    "with open(example1, \"r\") as file1:\n",
    "    print(\"first line: \" + file1.readline())\n",
    "\n",
    "with open(example1, \"r\") as file1:\n",
    "    print(file1.readline(20)) # does not read past the end of line\n",
    "    print(file1.read(20)) # Returns the next 20 chars\n",
    "\n",
    "# iterate through the lines\n",
    "with open(example1,\"r\") as file1:\n",
    "        i = 0;\n",
    "        for line in file1:\n",
    "            print(\"Iteration\", str(i), \": \", line)\n",
    "            i = i + 1\n",
    "\n",
    "# read all lines and save as a list\n",
    "with open(example1, \"r\") as file1:\n",
    "    FileasList = file1.readlines()\n",
    "\n",
    "# print the first line\n",
    "FileasList[0]\n",
    "\n",
    "# print the third line\n",
    "FileasList[2]\n"
   ]
  },
  {
   "cell_type": "markdown",
   "metadata": {},
   "source": [
    "### Writing Files with Open"
   ]
  },
  {
   "cell_type": "code",
   "execution_count": 2,
   "metadata": {},
   "outputs": [],
   "source": [
    "Lines = ['This is line A \\n', 'This is line B \\n', 'This is line C \\n']\n",
    "\n",
    "with open ('Example1.txt', 'w') as File1:\n",
    "  for line in Lines: #writing every line in list 'Lines'\n",
    "    File1.write(line) \n",
    "  File1.write('This is line D') #writing at the end\n"
   ]
  },
  {
   "cell_type": "code",
   "execution_count": 3,
   "metadata": {},
   "outputs": [],
   "source": [
    "# writing from one file to another\n",
    "with open ('Example1.txt', 'r') as readfile:\n",
    "  with open ('Example3.txt', 'w') as writefile:\n",
    "    for line in readfile:\n",
    "      writefile.write(line)"
   ]
  },
  {
   "cell_type": "code",
   "execution_count": 5,
   "metadata": {},
   "outputs": [],
   "source": [
    "# appending in an existing file without erasing information\n",
    "with open ('Example3.txt', 'a') as appendfile:\n",
    "  appendfile.write('\\nThis is line E')"
   ]
  },
  {
   "cell_type": "code",
   "execution_count": 12,
   "metadata": {},
   "outputs": [],
   "source": [
    "# appending, if not file, it creates it\n",
    "with open ('Example2.txt', 'a+') as appendfile:\n",
    "  appendfile.write('This is line A')"
   ]
  },
  {
   "cell_type": "code",
   "execution_count": 15,
   "metadata": {},
   "outputs": [
    {
     "name": "stdout",
     "output_type": "stream",
     "text": [
      "Initial Location: 29\n",
      "Read nothing\n",
      "\n",
      "New Location: 0\n",
      "aThis is line AThis is line A\n",
      "Location after read: 29\n"
     ]
    }
   ],
   "source": [
    "# .tell() and .seek(offset,from) are methods uses to kwon where the 'cursor' \n",
    "# is in a file and be able to controle it\n",
    "\n",
    "with open('Example2.txt', 'a+') as testwriterfile:\n",
    "  print('Initial Location: {}'.format(testwriterfile.tell()))\n",
    "\n",
    "  data = testwriterfile.read()\n",
    "  if (not data): \n",
    "    print('Read nothing')\n",
    "  else:\n",
    "    print(testwriterfile.read())\n",
    "\n",
    "  testwriterfile.seek(0,0) #moving 0 bytes from beginning\n",
    "\n",
    "  print ('\\nNew Location: {}'.format(testwriterfile.tell()))\n",
    "  data = testwriterfile.read()\n",
    "  if (not data):\n",
    "    print('Read nothing')\n",
    "  else:\n",
    "    print(data)\n",
    "  \n",
    "  print('Location after read: {}'.format(testwriterfile.tell()))"
   ]
  },
  {
   "cell_type": "code",
   "execution_count": 17,
   "metadata": {},
   "outputs": [
    {
     "name": "stdout",
     "output_type": "stream",
     "text": [
      "Line 1\n",
      "Line 2\n",
      "Line 3\n",
      "finished\n",
      "\n"
     ]
    }
   ],
   "source": [
    "# .truncate() deletes everthing that follows \n",
    "\n",
    "with open('Example2.txt', 'r+') as testwritefile:\n",
    "    data = testwritefile.readlines()\n",
    "    testwritefile.seek(0,0) #write at beginning of file\n",
    "   \n",
    "    testwritefile.write(\"Line 1\" + \"\\n\")\n",
    "    testwritefile.write(\"Line 2\" + \"\\n\")\n",
    "    testwritefile.write(\"Line 3\" + \"\\n\")\n",
    "    testwritefile.write(\"finished\\n\")\n",
    "    #Uncomment the line below\n",
    "    testwritefile.truncate()\n",
    "    testwritefile.seek(0,0)\n",
    "    print(testwritefile.read())"
   ]
  },
  {
   "cell_type": "code",
   "execution_count": 33,
   "metadata": {},
   "outputs": [],
   "source": [
    "# Exercises\n",
    "from random import randint as rnd\n",
    "\n",
    "memReg = 'members.txt'\n",
    "exReg = 'inactive.txt'\n",
    "fee =('yes','no')\n",
    "\n",
    "def genFiles(current,old):\n",
    "    with open(current,'w+') as writefile: \n",
    "        writefile.write('Membership No  Date Joined  Active  \\n')\n",
    "        data = \"{:^13}  {:<11}  {:<6}\\n\"\n",
    "\n",
    "        for rowno in range(20):\n",
    "            date = str(rnd(2015,2020))+ '-' + str(rnd(1,12))+'-'+str(rnd(1,25))\n",
    "            writefile.write(data.format(rnd(10000,99999),date,fee[rnd(0,1)]))\n",
    "\n",
    "\n",
    "    with open(old,'w+') as writefile: \n",
    "        writefile.write('Membership No  Date Joined  Active  \\n')\n",
    "        data = \"{:^13}  {:<11}  {:<6}\\n\"\n",
    "        for rowno in range(3):\n",
    "            date = str(rnd(2015,2020))+ '-' + str(rnd(1,12))+'-'+str(rnd(1,25))\n",
    "            writefile.write(data.format(rnd(10000,99999),date,fee[1]))\n",
    "\n",
    "\n",
    "genFiles(memReg,exReg)"
   ]
  },
  {
   "cell_type": "code",
   "execution_count": 35,
   "metadata": {},
   "outputs": [
    {
     "name": "stdout",
     "output_type": "stream",
     "text": [
      "['Membership No  Date Joined  Active  \\n', '    92255      2015-3-18    yes   \\n', '    22292      2015-7-11    yes   \\n', '    62140      2015-4-9     yes   \\n', '    91714      2018-2-7     yes   \\n', '    95837      2016-11-12   yes   \\n', '    23751      2020-8-23    yes   \\n', '    34471      2016-7-15    yes   \\n', '    25043      2018-5-17    yes   \\n', '    98616      2016-4-18    yes   \\n', '    14856      2015-5-9     yes   \\n', '    25830      2017-11-3    yes   \\n', '    13599      2018-1-12    yes   \\n']\n",
      "Active Members: \n",
      "\n",
      "\n",
      "Membership No  Date Joined  Active  \n",
      "    92255      2015-3-18    yes   \n",
      "    22292      2015-7-11    yes   \n",
      "    62140      2015-4-9     yes   \n",
      "    91714      2018-2-7     yes   \n",
      "    95837      2016-11-12   yes   \n",
      "    23751      2020-8-23    yes   \n",
      "    34471      2016-7-15    yes   \n",
      "    25043      2018-5-17    yes   \n",
      "    98616      2016-4-18    yes   \n",
      "    14856      2015-5-9     yes   \n",
      "    25830      2017-11-3    yes   \n",
      "    13599      2018-1-12    yes   \n",
      "\n",
      "Inactive Members: \n",
      "\n",
      "\n",
      "Membership No  Date Joined  Active  \n",
      "    75149      2020-8-25    no    \n",
      "    20038      2016-3-1     no    \n",
      "    35884      2018-12-23   no    \n",
      "    79421      2018-12-19   no    \n",
      "    43713      2017-5-24    no    \n",
      "    13927      2019-12-6    no    \n",
      "    82127      2020-4-13    no    \n",
      "    50319      2016-2-18    no    \n",
      "    70743      2019-3-14    no    \n",
      "    87709      2019-12-17   no    \n",
      "    11404      2015-5-7     no    \n",
      "\n"
     ]
    }
   ],
   "source": [
    "  \n",
    "'''\n",
    "The two arguments for this function are the files:\n",
    "    - currentMem: File containing list of current members\n",
    "    - exMem: File containing list of old members\n",
    "    \n",
    "    This function should remove all rows from currentMem containing 'no' \n",
    "    in the 'Active' column and appends them to exMem.\n",
    "    '''\n",
    "def cleanFiles(currentMem, exMem):\n",
    "    lst = []\n",
    "    with open(currentMem,'r+') as current:\n",
    "        with open(exMem, 'a+') as inactive:\n",
    "            for line in current:\n",
    "                if 'no' in line:\n",
    "                    inactive.write(line)\n",
    "                else:\n",
    "                    lst.append(line)\n",
    "    with open(currentMem, 'w') as current:\n",
    "        for line in lst:\n",
    "            current.write(line)\n",
    "    print(lst)    \n",
    "\n",
    "# The code below is to help you view the files.\n",
    "# Do not modify this code for this exercise.\n",
    "memReg = 'members.txt'\n",
    "exReg = 'inactive.txt'\n",
    "cleanFiles(memReg,exReg)\n",
    "\n",
    "\n",
    "headers = \"Membership No  Date Joined  Active  \\n\"\n",
    "with open(memReg,'r') as readFile:\n",
    "    print(\"Active Members: \\n\\n\")\n",
    "    print(readFile.read())\n",
    "    \n",
    "with open(exReg,'r') as readFile:\n",
    "    print(\"Inactive Members: \\n\\n\")\n",
    "    print(readFile.read())\n",
    "                "
   ]
  },
  {
   "cell_type": "markdown",
   "metadata": {},
   "source": [
    "### Loading Data with Pandas"
   ]
  },
  {
   "cell_type": "markdown",
   "metadata": {},
   "source": [
    "### Working with and Saving Data with Pandas"
   ]
  }
 ],
 "metadata": {
  "kernelspec": {
   "display_name": "Python 3.9.7 64-bit",
   "language": "python",
   "name": "python3"
  },
  "language_info": {
   "codemirror_mode": {
    "name": "ipython",
    "version": 3
   },
   "file_extension": ".py",
   "mimetype": "text/x-python",
   "name": "python",
   "nbconvert_exporter": "python",
   "pygments_lexer": "ipython3",
   "version": "3.9.7"
  },
  "orig_nbformat": 4,
  "vscode": {
   "interpreter": {
    "hash": "243871e61548dd2ed609fcf87aa6942bfcd0706d75d437d88e0c4f6216a25827"
   }
  }
 },
 "nbformat": 4,
 "nbformat_minor": 2
}
