{
 "cells": [
  {
   "cell_type": "markdown",
   "metadata": {},
   "source": [
    "# Module 2 - Python Data Structures"
   ]
  },
  {
   "cell_type": "markdown",
   "metadata": {},
   "source": [
    "### Lists, Tuples & Lab"
   ]
  },
  {
   "cell_type": "code",
   "execution_count": 16,
   "metadata": {},
   "outputs": [
    {
     "name": "stdout",
     "output_type": "stream",
     "text": [
      "(3, 10, 1.5)\n",
      "[1.5, 3, 10]\n",
      "[3, 10, 1.5, 'hi', 2]\n",
      "[3, 10, 1.5, 20, 2]\n",
      "hello world\n"
     ]
    }
   ],
   "source": [
    "# tuples\n",
    "tuple = (3, 10, 1.5)  # expressed with parenthesis '()' \n",
    "                        # and can have multiple data types\n",
    "len(tuple)\n",
    "tuple1 = tuple\n",
    "print (tuple)\n",
    "# tuple1[1] = 30        not possible because tuples are inmutables\n",
    "print(sorted(tuple1))\n",
    "\n",
    "# nesting - tuples inside tuples\n",
    "nt = (1, 2, ('pop', 'rock'), (3, 4), ('a', (1, 2,)))\n",
    "nt[4][1]\n",
    "\n",
    "\n",
    "# lists   work similart than tuples but can be mutable\n",
    "list = [3, 10, 1.5]\n",
    "list.extend(['hi', 2])\n",
    "print(list)\n",
    "list[3] = 20\n",
    "print(list)\n",
    "\n",
    "a = 'hello world'\n",
    "a.split(' ')\n",
    "print (a)\n"
   ]
  },
  {
   "cell_type": "markdown",
   "metadata": {},
   "source": [
    "The dataset can be seen below:\n",
    "\n",
    "<font size=\"1\">\n",
    "<table font-size:xx-small>\n",
    "  <tr>\n",
    "    <th>Artist</th>\n",
    "    <th>Album</th> \n",
    "    <th>Released</th>\n",
    "    <th>Length</th>\n",
    "    <th>Genre</th> \n",
    "    <th>Music recording sales (millions)</th>\n",
    "    <th>Claimed sales (millions)</th>\n",
    "    <th>Released</th>\n",
    "    <th>Soundtrack</th>\n",
    "    <th>Rating (friends)</th>\n",
    "  </tr>\n",
    "  <tr>\n",
    "    <td>Michael Jackson</td>\n",
    "    <td>Thriller</td> \n",
    "    <td>1982</td>\n",
    "    <td>00:42:19</td>\n",
    "    <td>Pop, rock, R&B</td>\n",
    "    <td>46</td>\n",
    "    <td>65</td>\n",
    "    <td>30-Nov-82</td>\n",
    "    <td></td>\n",
    "    <td>10.0</td>\n",
    "  </tr>\n",
    "  <tr>\n",
    "    <td>AC/DC</td>\n",
    "    <td>Back in Black</td> \n",
    "    <td>1980</td>\n",
    "    <td>00:42:11</td>\n",
    "    <td>Hard rock</td>\n",
    "    <td>26.1</td>\n",
    "    <td>50</td>\n",
    "    <td>25-Jul-80</td>\n",
    "    <td></td>\n",
    "    <td>8.5</td>\n",
    "  </tr>\n",
    "    <tr>\n",
    "    <td>Pink Floyd</td>\n",
    "    <td>The Dark Side of the Moon</td> \n",
    "    <td>1973</td>\n",
    "    <td>00:42:49</td>\n",
    "    <td>Progressive rock</td>\n",
    "    <td>24.2</td>\n",
    "    <td>45</td>\n",
    "    <td>01-Mar-73</td>\n",
    "    <td></td>\n",
    "    <td>9.5</td>\n",
    "  </tr>\n",
    "    <tr>\n",
    "    <td>Whitney Houston</td>\n",
    "    <td>The Bodyguard</td> \n",
    "    <td>1992</td>\n",
    "    <td>00:57:44</td>\n",
    "    <td>Soundtrack/R&B, soul, pop</td>\n",
    "    <td>26.1</td>\n",
    "    <td>50</td>\n",
    "    <td>25-Jul-80</td>\n",
    "    <td>Y</td>\n",
    "    <td>7.0</td>\n",
    "  </tr>\n",
    "    <tr>\n",
    "    <td>Meat Loaf</td>\n",
    "    <td>Bat Out of Hell</td> \n",
    "    <td>1977</td>\n",
    "    <td>00:46:33</td>\n",
    "    <td>Hard rock, progressive rock</td>\n",
    "    <td>20.6</td>\n",
    "    <td>43</td>\n",
    "    <td>21-Oct-77</td>\n",
    "    <td></td>\n",
    "    <td>7.0</td>\n",
    "  </tr>\n",
    "    <tr>\n",
    "    <td>Eagles</td>\n",
    "    <td>Their Greatest Hits (1971-1975)</td> \n",
    "    <td>1976</td>\n",
    "    <td>00:43:08</td>\n",
    "    <td>Rock, soft rock, folk rock</td>\n",
    "    <td>32.2</td>\n",
    "    <td>42</td>\n",
    "    <td>17-Feb-76</td>\n",
    "    <td></td>\n",
    "    <td>9.5</td>\n",
    "  </tr>\n",
    "    <tr>\n",
    "    <td>Bee Gees</td>\n",
    "    <td>Saturday Night Fever</td> \n",
    "    <td>1977</td>\n",
    "    <td>1:15:54</td>\n",
    "    <td>Disco</td>\n",
    "    <td>20.6</td>\n",
    "    <td>40</td>\n",
    "    <td>15-Nov-77</td>\n",
    "    <td>Y</td>\n",
    "    <td>9.0</td>\n",
    "  </tr>\n",
    "    <tr>\n",
    "    <td>Fleetwood Mac</td>\n",
    "    <td>Rumours</td> \n",
    "    <td>1977</td>\n",
    "    <td>00:40:01</td>\n",
    "    <td>Soft rock</td>\n",
    "    <td>27.9</td>\n",
    "    <td>40</td>\n",
    "    <td>04-Feb-77</td>\n",
    "    <td></td>\n",
    "    <td>9.5</td>\n",
    "  </tr>\n",
    "</table></font>\n"
   ]
  },
  {
   "cell_type": "code",
   "execution_count": 23,
   "metadata": {},
   "outputs": [
    {
     "name": "stdout",
     "output_type": "stream",
     "text": [
      "disco\n",
      "10\n",
      "1.2\n",
      "1.2\n",
      "('disco', 10, 1.2, 'hard rock', 10)\n",
      "('disco', 10, 1.2)\n"
     ]
    },
    {
     "data": {
      "text/plain": [
       "('pop',\n",
       " 'rock',\n",
       " 'soul',\n",
       " 'hard rock',\n",
       " 'soft rock',\n",
       " 'R&B',\n",
       " 'progressive rock',\n",
       " 'disco')"
      ]
     },
     "execution_count": 23,
     "metadata": {},
     "output_type": "execute_result"
    }
   ],
   "source": [
    "# LAB - TUPLES\n",
    "\n",
    "tuple1 = (\"disco\",10,1.2 )\n",
    "tuple1\n",
    "\n",
    "# print each index\n",
    "print(tuple1[0])\n",
    "print(tuple1[1])\n",
    "print(tuple1[2])\n",
    "\n",
    "# negative index\n",
    "print(tuple1[-1])\n",
    "\n",
    "# concatenate two tuples\n",
    "tuple2 = tuple1 + (\"hard rock\", 10)\n",
    "print(tuple2)\n",
    "\n",
    "# slicing\n",
    "print(tuple2[0:3])"
   ]
  },
  {
   "cell_type": "code",
   "execution_count": 26,
   "metadata": {},
   "outputs": [
    {
     "name": "stdout",
     "output_type": "stream",
     "text": [
      "[-5, -3, 1]\n"
     ]
    }
   ],
   "source": [
    "# QUIZ\n",
    "# sample tuple\n",
    "genres_tuple = (\"pop\", \"rock\", \"soul\", \"hard rock\", \"soft rock\", \\\n",
    "                \"R&B\", \"progressive rock\", \"disco\") \n",
    "genres_tuple\n",
    "\n",
    "# length \n",
    "len(genres_tuple)\n",
    "# access index 3\n",
    "genres_tuple[3]\n",
    "# slicing to obtain indexes 3 - 5\n",
    "genres_tuple[3:6]\n",
    "# first two elements\n",
    "genres_tuple[:2]\n",
    "# index of disco\n",
    "genres_tuple.index('disco')\n",
    "# Generate a sorted list from C_tuple\n",
    "C_tuple=(-5, 1, -3)\n",
    "s_tuple = sorted(C_tuple)\n",
    "print(s_tuple)"
   ]
  },
  {
   "cell_type": "code",
   "execution_count": 34,
   "metadata": {},
   "outputs": [
    {
     "name": "stdout",
     "output_type": "stream",
     "text": [
      "the same element using negative and positive indexing:\n",
      " Postive: Michael Jackson \n",
      " Negative: Michael Jackson\n",
      "['Michael Jackson', 10.1, 1982, 'MJ', 1, 'pop', 10, ['a', 'b']]\n",
      "Before change: ['disco', 10, 1.2]\n",
      "After change: ['hard rock', 10, 1.2]\n",
      "['hard', 'rock']\n",
      "['A', 'B', 'C', 'D']\n",
      "A: ['hard rock', 10, 1.2]\n",
      "B: ['hard rock', 10, 1.2]\n"
     ]
    }
   ],
   "source": [
    "# LAB - LISTS\n",
    "\n",
    "# create a list\n",
    "L = [\"Michael Jackson\", 10.1, 1982]\n",
    "L\n",
    "# print the elements on each index\n",
    "print('the same element using negative and positive indexing:\\n Postive:',L[0],\n",
    "'\\n Negative:' , L[-3]  )\n",
    "\n",
    "# sample List\n",
    "L2 = [\"Michael Jackson\", 10.1,1982,\"MJ\",1]\n",
    "# list slicing\n",
    "L2[3:5]\n",
    "# add elements\n",
    "L2.extend(['pop', 10])\n",
    "# appending nests the list\n",
    "L2.append(['a','b'])\n",
    "print(L2)\n",
    "\n",
    "# change the element based on the index\n",
    "A = [\"disco\", 10, 1.2]\n",
    "print('Before change:', A)\n",
    "A[0] = 'hard rock'\n",
    "print('After change:', A)\n",
    "\n",
    "# split a string, default is by space\n",
    "print('hard rock'.split())\n",
    "# split by coma\n",
    "print('A,B,C,D'.split(','))\n",
    "\n",
    "# copy (copy by reference) the list A\n",
    "A = [\"hard rock\", 10, 1.2]\n",
    "B = A\n",
    "print('A:', A)\n",
    "print('B:', B)"
   ]
  },
  {
   "cell_type": "code",
   "execution_count": 35,
   "metadata": {},
   "outputs": [
    {
     "name": "stdout",
     "output_type": "stream",
     "text": [
      "hello\n",
      "['hello', [1, 2, 3], True]\n"
     ]
    },
    {
     "data": {
      "text/plain": [
       "[1, 'a', 2, 1, 'd']"
      ]
     },
     "execution_count": 35,
     "metadata": {},
     "output_type": "execute_result"
    }
   ],
   "source": [
    "# QUIZ\n",
    "# Create a list a_list, with the following elements 1, hello, [1,2,3] and True\n",
    "L = [1 , 'hello' , [1 , 2 , 3], True]\n",
    "# value stored at index 1\n",
    "print(L[1])\n",
    "# stored elements at index 1 - 3\n",
    "print(L[1:4])\n",
    "# Concatenate the following lists A = [1, 'a'] and B = [2, 1, 'd']\n",
    "A = [1 , 'a']\n",
    "B = [2, 1, 'd']\n",
    "A + B"
   ]
  },
  {
   "cell_type": "markdown",
   "metadata": {},
   "source": [
    "### Sets & Lab"
   ]
  },
  {
   "cell_type": "code",
   "execution_count": 46,
   "metadata": {},
   "outputs": [
    {
     "data": {
      "text/plain": [
       "True"
      ]
     },
     "execution_count": 46,
     "metadata": {},
     "output_type": "execute_result"
    }
   ],
   "source": [
    "# Video\n",
    "\n",
    "albumlist = ['Michael', 'Jackson', 'Michael', 1982]\n",
    "albumset = set(albumlist)\n",
    "albumset.add('Billy Jean')\n",
    "albumset.remove(1982)\n",
    "albumset2 = {'Michael','Jordan','basket'}\n",
    "albumset3 = albumset & albumset2\n",
    "albumset3.issubset(albumset)\n"
   ]
  },
  {
   "cell_type": "code",
   "execution_count": 55,
   "metadata": {},
   "outputs": [
    {
     "name": "stdout",
     "output_type": "stream",
     "text": [
      "{'Thriller', 'Back in Black', 'AC/DC'} {'The Dark Side of the Moon', 'AC/DC', 'Back in Black'}\n",
      "{'AC/DC', 'Back in Black'}\n",
      "{'Thriller'}\n",
      "{'The Dark Side of the Moon'}\n",
      "{'AC/DC', 'Back in Black'}\n"
     ]
    }
   ],
   "source": [
    "# LAB\n",
    "\n",
    "# create a set\n",
    "set1 = {\"pop\", \"rock\", \"soul\", \"hard rock\", \"rock\", \"R&B\", \"rock\", \"disco\"}\n",
    "set1\n",
    "\n",
    "# set from list\n",
    "album_list = [ \"Michael Jackson\", \"Thriller\", 1982, \"00:42:19\", \\\n",
    "              \"Pop, Rock, R&B\", 46.0, 65, \"30-Nov-82\", None, 10.0]\n",
    "album_set = set(album_list)             \n",
    "album_set\n",
    "\n",
    "# add element\n",
    "album_set.add('added')\n",
    "# remove element\n",
    "album_set.remove(None)\n",
    "# verify element\n",
    "10.0 in album_set\n",
    "\n",
    "# set logic operators\n",
    "album_set1 = set([\"Thriller\", 'AC/DC', 'Back in Black'])\n",
    "album_set2 = set([ \"AC/DC\", \"Back in Black\", \"The Dark Side of the Moon\"])\n",
    "print(album_set1, album_set2)\n",
    "# intersection\n",
    "intersection = album_set1 & album_set2\n",
    "print(intersection)\n",
    "# difference \n",
    "print(album_set1.difference(album_set2))\n",
    "print(album_set2.difference(album_set1))\n",
    "print(album_set1.intersection(album_set2))"
   ]
  },
  {
   "cell_type": "code",
   "execution_count": 58,
   "metadata": {},
   "outputs": [
    {
     "name": "stdout",
     "output_type": "stream",
     "text": [
      "Sum of A is: 6\n",
      "Sum of B is: 3\n",
      "Not equal\n",
      "{'AC/DC', 'Back in Black'}\n"
     ]
    },
    {
     "data": {
      "text/plain": [
       "True"
      ]
     },
     "execution_count": 58,
     "metadata": {},
     "output_type": "execute_result"
    }
   ],
   "source": [
    "# QUIZ\n",
    "\n",
    "# convert the list ['rap','house','electronic music', 'rap'] to a set\n",
    "set(['rap','house','electronic music', 'rap'])\n",
    "\n",
    "# consider the list A = [1, 2, 2, 1] and set B = set([1, 2, 2, 1]), does sum(A) == sum(B)?\n",
    "A = [1, 2, 2, 1]\n",
    "B = set([1, 2, 2, 1])\n",
    "print ('Sum of A is:',sum(A))\n",
    "print ('Sum of B is:',sum(B))\n",
    "if sum(A) == sum(B):\n",
    "    print('Equal')\n",
    "else:\n",
    "    print('Not equal')\n",
    "\n",
    "# create a new set album_set3 that is the union of album_set1 and album_set2\n",
    "album_set1 = set([\"Thriller\", 'AC/DC', 'Back in Black'])\n",
    "album_set2 = set([ \"AC/DC\", \"Back in Black\", \"The Dark Side of the Moon\"])\n",
    "album_set3 = album_set1 & album_set2\n",
    "print(album_set3)\n",
    "\n",
    "# find out if album_set1 is a subset of album_set3\n",
    "album_set1.issubset(album_set2)\n",
    "tuple1=(\"A\",\"B\",\"C\" )\n",
    "tuple1[-1]\n",
    "'1' in {'1','2'}"
   ]
  },
  {
   "cell_type": "markdown",
   "metadata": {},
   "source": [
    "### Dictionaries & Lab"
   ]
  },
  {
   "cell_type": "code",
   "execution_count": 67,
   "metadata": {},
   "outputs": [
    {
     "name": "stdout",
     "output_type": "stream",
     "text": [
      "1977\n",
      "{'Thriller': 1982, 'Back in black': 1980, 'Rumors': 1977, 'Graduation': 2007}\n",
      "{'Back in black': 1980, 'Rumors': 1977, 'Graduation': 2007}\n",
      "True\n",
      "dict_keys(['Back in black', 'Rumors', 'Graduation'])\n",
      "dict_values([1980, 1977, 2007])\n"
     ]
    }
   ],
   "source": [
    "# Video\n",
    "\n",
    "dictionary = {'Thriller' : 1982, 'Back in black' : 1980, 'Rumors' : 1977}\n",
    "print(dictionary['Rumors'])\n",
    "\n",
    "# add element\n",
    "dictionary['Graduation'] = 2007\n",
    "print(dictionary)\n",
    "\n",
    "# delete element\n",
    "del(dictionary['Thriller'])\n",
    "print(dictionary)\n",
    "\n",
    "print('Rumors' in dictionary)\n",
    "\n",
    "print(dictionary.keys())\n",
    "print(dictionary.values())\n"
   ]
  },
  {
   "cell_type": "code",
   "execution_count": 72,
   "metadata": {},
   "outputs": [
    {
     "name": "stdout",
     "output_type": "stream",
     "text": [
      "65\n",
      "dict_keys(['Back in Black', 'The Bodyguard', 'Thriller'])\n",
      "dict_values([50, 50, 65])\n"
     ]
    }
   ],
   "source": [
    "# LAB\n",
    "\n",
    "# dictionary\n",
    "soundtrack_dic = {\"The Bodyguard\":\"1992\", \"Saturday Night Fever\":\"1977\"}\n",
    "soundtrack_dic \n",
    "# a) In the dictionary soundtrack_dic what are the keys?\n",
    "soundtrack_dic.keys()\n",
    "# b) In the dictionary soundtrack_dic what are the values?\n",
    "soundtrack_dic.values()\n",
    "\n",
    "# a) Create a dictionary album_sales_dict where the keys are the album name and the sales in millions are the values.\n",
    "album_sales_dict = {'Back in Black' : 50, 'The Bodyguard' : 50, 'Thriller' : 65}\n",
    "# b) Use the dictionary to find the total sales of Thriller:\n",
    "print(album_sales_dict[\"Thriller\"])\n",
    "# c) Find the names of the albums from the dictionary using the method keys()\n",
    "print(album_sales_dict.keys())\n",
    "# d) Find the values of the recording sales from the dictionary using the method values\n",
    "print(album_sales_dict.values())\n"
   ]
  }
 ],
 "metadata": {
  "kernelspec": {
   "display_name": "Python 3.9.7 64-bit",
   "language": "python",
   "name": "python3"
  },
  "language_info": {
   "codemirror_mode": {
    "name": "ipython",
    "version": 3
   },
   "file_extension": ".py",
   "mimetype": "text/x-python",
   "name": "python",
   "nbconvert_exporter": "python",
   "pygments_lexer": "ipython3",
   "version": "3.9.7"
  },
  "orig_nbformat": 4,
  "vscode": {
   "interpreter": {
    "hash": "243871e61548dd2ed609fcf87aa6942bfcd0706d75d437d88e0c4f6216a25827"
   }
  }
 },
 "nbformat": 4,
 "nbformat_minor": 2
}
