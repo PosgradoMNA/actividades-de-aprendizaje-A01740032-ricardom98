{
 "cells": [
  {
   "cell_type": "markdown",
   "metadata": {},
   "source": [
    "# Module 1 - Python Basics"
   ]
  },
  {
   "cell_type": "markdown",
   "metadata": {},
   "source": [
    "### Your First Program"
   ]
  },
  {
   "cell_type": "code",
   "execution_count": 7,
   "metadata": {},
   "outputs": [
    {
     "name": "stdout",
     "output_type": "stream",
     "text": [
      "Hello Python 101\n"
     ]
    }
   ],
   "source": [
    "#printing Hello Python 101\n",
    "print('Hello Python 101')"
   ]
  },
  {
   "cell_type": "markdown",
   "metadata": {},
   "source": [
    "### Types"
   ]
  },
  {
   "cell_type": "code",
   "execution_count": 9,
   "metadata": {},
   "outputs": [
    {
     "data": {
      "text/plain": [
       "bool"
      ]
     },
     "execution_count": 9,
     "metadata": {},
     "output_type": "execute_result"
    }
   ],
   "source": [
    "# type\n",
    "type(11)\n",
    "type(12.23)\n",
    "type('hello')\n",
    "\n",
    "# changing type\n",
    "float(2)\n",
    "int(1.1)\n",
    "int('1')\n",
    "\n",
    "# booleans\n",
    "type(True)\n"
   ]
  },
  {
   "cell_type": "markdown",
   "metadata": {},
   "source": [
    "### Expresions and Variables"
   ]
  },
  {
   "cell_type": "code",
   "execution_count": 18,
   "metadata": {},
   "outputs": [
    {
     "data": {
      "text/plain": [
       "2.3666666666666667"
      ]
     },
     "execution_count": 18,
     "metadata": {},
     "output_type": "execute_result"
    }
   ],
   "source": [
    "# mathematical expressions\n",
    "43 + 60 + 16 + 41\n",
    "50 - 60\n",
    "5 * 5 \n",
    "25 / 5\n",
    "\n",
    "# variables\n",
    "my_variable = 1\n",
    "my_variable\n",
    "total_min = 43 + 42 + 57\n",
    "total_hr = total_min / 60\n",
    "total_hr"
   ]
  },
  {
   "cell_type": "markdown",
   "metadata": {},
   "source": [
    "### Lab - Write Your Fisrt Python Code"
   ]
  },
  {
   "cell_type": "code",
   "execution_count": 23,
   "metadata": {},
   "outputs": [
    {
     "name": "stdout",
     "output_type": "stream",
     "text": [
      "Hello, World!\n",
      "3.9.7 (tags/v3.9.7:1016ef3, Aug 30 2021, 20:19:38) [MSC v.1929 64 bit (AMD64)]\n",
      "2.6666666666666665\n",
      "7\n",
      "10\n",
      "17\n"
     ]
    }
   ],
   "source": [
    "print('Hello, World!')\n",
    "import sys\n",
    "print(sys.version)\n",
    "\n",
    "# comments are not taken as code\n",
    "\n",
    "# frint('Hello, Python') # this cause an error \n",
    "\n",
    "#types\n",
    "11      # integer\n",
    "2.4     # float\n",
    "'Hello' # string\n",
    "True    # boolean\n",
    "\n",
    "# converting integers to float\n",
    "type(float(2))\n",
    "int(1.1)  # this causes a loss of information\n",
    "\n",
    "# math expressions\n",
    "total_hrs = (160/60)\n",
    "print (total_hrs)\n",
    "\n",
    "# math conventions & variables\n",
    "a = 2 + 30 * 5\n",
    "b = (2 + 30) * 5\n",
    "a != b\n",
    "\n",
    "# Exercises\n",
    "x = 3 + 2 * 2\n",
    "print (x)\n",
    "\n",
    "y = (3 + 2) * 2\n",
    "print (y)\n",
    "\n",
    "z = x + y\n",
    "print (z)\n"
   ]
  },
  {
   "cell_type": "markdown",
   "metadata": {},
   "source": [
    "### String Operations"
   ]
  },
  {
   "cell_type": "code",
   "execution_count": 35,
   "metadata": {},
   "outputs": [
    {
     "name": "stdout",
     "output_type": "stream",
     "text": [
      "Michael Jackson is the best\n",
      "Michael Jackson \n",
      " is the best\n",
      "Michael Jackson \t is the best\n",
      "Michael Jackson \\ is the best\n",
      "Michael Jackson \\ is the best\n",
      "hello world HELLO WORLD bye world 6\n"
     ]
    }
   ],
   "source": [
    "name = 'Michael Jackson'\n",
    "name[0:5:2]\n",
    "name[-2]\n",
    "len(name)\n",
    "3 * name\n",
    "name = name + ' is the best'\n",
    "print(name)\n",
    "\n",
    "# escape sequence methods\n",
    "print('Michael Jackson \\n is the best')\n",
    "print('Michael Jackson \\t is the best')\n",
    "print('Michael Jackson \\\\ is the best')\n",
    "print(r'Michael Jackson \\ is the best')\n",
    "\n",
    "# string methods\n",
    "a = 'hello world'\n",
    "b = a.upper()\n",
    "c = a.replace('hello', 'bye')\n",
    "d = a.find('world')\n",
    "print(a, b, c, d)"
   ]
  },
  {
   "cell_type": "markdown",
   "metadata": {},
   "source": [
    "### Lab - String Operations"
   ]
  },
  {
   "cell_type": "code",
   "execution_count": 36,
   "metadata": {},
   "outputs": [
    {
     "name": "stdout",
     "output_type": "stream",
     "text": [
      "1 2 12\n",
      "ABC\n",
      "aceg\n",
      "\\\n",
      "YOU ARE WRONG\n",
      "9\n",
      "hey, how are you Bob?\n",
      "Li\n"
     ]
    }
   ],
   "source": [
    "a = '1'\n",
    "b = '2'\n",
    "c = a + b\n",
    "print (a, b, c)\n",
    "d = 'ABCDEFG'\n",
    "print (d[0:3])\n",
    "e = 'abcdefg'\n",
    "print(e[::2])\n",
    "print('\\\\')\n",
    "f = 'You are wrong'\n",
    "print(f.upper())\n",
    "g = 'hey, how are you John?'\n",
    "print(g.find('are'))\n",
    "print(g.replace('John','Bob'))\n",
    "name = 'Lizz'\n",
    "print(name[0:2])"
   ]
  }
 ],
 "metadata": {
  "kernelspec": {
   "display_name": "Python 3.9.7 64-bit",
   "language": "python",
   "name": "python3"
  },
  "language_info": {
   "codemirror_mode": {
    "name": "ipython",
    "version": 3
   },
   "file_extension": ".py",
   "mimetype": "text/x-python",
   "name": "python",
   "nbconvert_exporter": "python",
   "pygments_lexer": "ipython3",
   "version": "3.9.7"
  },
  "orig_nbformat": 4,
  "vscode": {
   "interpreter": {
    "hash": "243871e61548dd2ed609fcf87aa6942bfcd0706d75d437d88e0c4f6216a25827"
   }
  }
 },
 "nbformat": 4,
 "nbformat_minor": 2
}
