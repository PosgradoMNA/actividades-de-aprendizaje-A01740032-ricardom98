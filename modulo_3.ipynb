{
 "cells": [
  {
   "cell_type": "markdown",
   "metadata": {},
   "source": [
    "# Modulo 3 -Python Programming"
   ]
  },
  {
   "cell_type": "markdown",
   "metadata": {},
   "source": [
    "### Conditions and Branching"
   ]
  },
  {
   "cell_type": "code",
   "execution_count": 17,
   "metadata": {},
   "outputs": [
    {
     "name": "stdout",
     "output_type": "stream",
     "text": [
      "True\n",
      "False\n",
      "False\n",
      "True\n",
      "Do not enter\n",
      "False\n",
      "True\n",
      "True\n"
     ]
    }
   ],
   "source": [
    "# conditions in numbers\n",
    "i = 3\n",
    "print(i >= 2)\n",
    "print(i == 6)\n",
    "\n",
    "# conditions in strings\n",
    "print('AC/DC' == 'Michael Jackson')\n",
    "print('AC/DC' != 'Michael Jackson')\n",
    "\n",
    "# if statement\n",
    "age = 16\n",
    "if age > 18:\n",
    "  print('Enter')\n",
    "elif age == 18:\n",
    "  print ('Nice')  \n",
    "else:\n",
    "  print('Do not enter')\n",
    "\n",
    "# logic operators\n",
    "a = 2\n",
    "b = 3\n",
    "print (a == 3)\n",
    "print (a == 3 or a == 2)\n",
    "print (a == 2 and b == 3)"
   ]
  },
  {
   "cell_type": "code",
   "execution_count": 18,
   "metadata": {},
   "outputs": [
    {
     "name": "stdout",
     "output_type": "stream",
     "text": [
      "This album is Amazing!\n",
      "This album is Amazing!\n"
     ]
    }
   ],
   "source": [
    "# QUIZ\n",
    "# Write an if statement to determine if an album had a rating greater than 8. \n",
    "# Test it using the rating for the album “Back in Black” that had a rating of 8.5. \n",
    "# If the statement is true print \"This album is Amazing!\"\n",
    "bib_rating = 8.5\n",
    "if bib_rating > 8.0:\n",
    "  print ('This album is Amazing!')\n",
    "# If the rating is larger then eight print “this album is amazing”. If the rating is less than or equal to 8 print “this album is ok”.\n",
    "rating = 8.5\n",
    "if rating > 8:\n",
    "    print (\"This album is Amazing!\")\n",
    "elif rating <= 8:\n",
    "    print ('This album is ok')\n",
    "# determine if an album came out before 1980 or in the years: 1991 or 1993. If the condition is true print out the year the album came out.\n",
    "launch = 1980\n",
    "if launch < 1980 or launch == 1991 or launch == 1993:\n",
    "    print (launch)"
   ]
  },
  {
   "cell_type": "markdown",
   "metadata": {},
   "source": [
    "### Loops"
   ]
  },
  {
   "cell_type": "code",
   "execution_count": 26,
   "metadata": {},
   "outputs": [
    {
     "name": "stdout",
     "output_type": "stream",
     "text": [
      "Nice\n",
      "Nice\n",
      "Nice\n",
      "red\n",
      "yellow\n",
      "green\n"
     ]
    },
    {
     "data": {
      "text/plain": [
       "['red', 'red']"
      ]
     },
     "execution_count": 26,
     "metadata": {},
     "output_type": "execute_result"
    }
   ],
   "source": [
    "# range function\n",
    "range(6)\n",
    "\n",
    "# for loops\n",
    "i = 0\n",
    "for i in range(3):\n",
    "  i += 1\n",
    "  print ('Nice')\n",
    "\n",
    "# iterating in a list with loops\n",
    "squares = ['red','yellow','green']\n",
    "for square in squares:\n",
    "  print(square)\n",
    "\n",
    "# while loop\n",
    "squares = ['red','red','yellow','red','green']\n",
    "newsquares = []\n",
    "i = 0\n",
    "while(squares[i] == 'red'):\n",
    "  newsquares.append(squares[i])\n",
    "  i += 1\n",
    "newsquares"
   ]
  },
  {
   "cell_type": "code",
   "execution_count": 28,
   "metadata": {},
   "outputs": [
    {
     "name": "stdout",
     "output_type": "stream",
     "text": [
      "Before square  0 is red\n",
      "After square  0 is white\n",
      "Before square  1 is yellow\n",
      "After square  1 is white\n",
      "Before square  2 is green\n",
      "After square  2 is white\n",
      "Before square  3 is purple\n",
      "After square  3 is white\n",
      "Before square  4 is blue\n",
      "After square  4 is white\n",
      "1982\n",
      "1980\n",
      "It took  2 repetitions to get out of loop.\n"
     ]
    }
   ],
   "source": [
    "# LAB\n",
    "\n",
    "# use for loop to change the elements in list\n",
    "squares = ['red', 'yellow', 'green', 'purple', 'blue']\n",
    "for i in range(0, 5):\n",
    "    print(\"Before square \", i, 'is',  squares[i])\n",
    "    squares[i] = 'white'\n",
    "    print(\"After square \", i, 'is',  squares[i])\n",
    "\n",
    "# while loop example\n",
    "dates = [1982, 1980, 1973, 2000]\n",
    "i = 0\n",
    "year = dates[0]\n",
    "while(year != 1973):    \n",
    "    print(year)\n",
    "    i = i + 1\n",
    "    year = dates[i]\n",
    "print(\"It took \", i ,\"repetitions to get out of loop.\")\n"
   ]
  },
  {
   "cell_type": "code",
   "execution_count": 30,
   "metadata": {},
   "outputs": [
    {
     "name": "stdout",
     "output_type": "stream",
     "text": [
      "-4\n",
      "-3\n",
      "-2\n",
      "-1\n",
      "0\n",
      "1\n",
      "2\n",
      "3\n",
      "4\n",
      "rock\n",
      "R&B\n",
      "Soundtrack\n",
      "R&B\n",
      "soul\n",
      "pop\n",
      "red\n",
      "yellow\n",
      "green\n",
      "purple\n",
      "blue\n",
      "10\n",
      "9.5\n",
      "10\n",
      "8\n",
      "7.5\n",
      "['orange', 'orange']\n"
     ]
    }
   ],
   "source": [
    "# write a for loop the prints out all the element between -5 and 5 using the range function.\n",
    "for i in range(-4,5):\n",
    "    print (i)\n",
    "\n",
    "# print the elements of the following list: Genres=[ 'rock', 'R&B', 'Soundtrack', 'R&B', 'soul', 'pop'] Make sure you follow Python conventions.\n",
    "Genres=[ 'rock', 'R&B', 'Soundtrack', 'R&B', 'soul', 'pop']\n",
    "for i in Genres:\n",
    "    print (i)\n",
    "\n",
    "# write a for loop that prints out the following list: squares=['red', 'yellow', 'green', 'purple', 'blue']\n",
    "squares=['red', 'yellow', 'green', 'purple', 'blue']\n",
    "for i in squares:\n",
    "    print (i)\n",
    "\n",
    "# write a while loop to display the values of the Rating of an album playlist stored in the list PlayListRatings. If the score is less than 6, exit the loop. The list PlayListRatings is given by: PlayListRatings = [10, 9.5, 10, 8, 7.5, 5, 10, 10]\n",
    "PlayListRatings = [10, 9.5, 10, 8, 7.5, 5, 10, 10]\n",
    "\n",
    "i = 0\n",
    "rate = PlayListRatings[0]\n",
    "\n",
    "while(i < len(PlayListRatings) and rate >= 6):    \n",
    "    print(rate)\n",
    "    i = i + 1\n",
    "    rate = PlayListRatings[i]\n",
    "\n",
    "# write a while loop to copy the strings 'orange' of the list squares to the list new_squares. Stop and exit the loop if the value on the list is not 'orange'\n",
    "squares = ['orange', 'orange', 'purple', 'blue ', 'orange']\n",
    "new_squares = []\n",
    "\n",
    "i = 0\n",
    "\n",
    "while (squares[i] == 'orange'):\n",
    "    new_squares.append(squares[i])\n",
    "    i = i + 1\n",
    "print (new_squares)"
   ]
  },
  {
   "cell_type": "markdown",
   "metadata": {},
   "source": [
    "### Functions"
   ]
  },
  {
   "cell_type": "code",
   "execution_count": 37,
   "metadata": {},
   "outputs": [
    {
     "name": "stdout",
     "output_type": "stream",
     "text": [
      "21\n",
      "6\n",
      "Album 0 Rating in 10.0\n",
      "Album 1 Rating in 8.5\n",
      "Album 2 Rating in 9.5\n",
      "5\n",
      "None\n",
      "10\n"
     ]
    }
   ],
   "source": [
    "# making functions\n",
    "\n",
    "def add1(a):\n",
    "  '''\n",
    "  the first lines are used to comment/explain the function\n",
    "  '''\n",
    "  b = a + 1\n",
    "  return b\n",
    "\n",
    "print(add1(20))\n",
    "c = add1(5)\n",
    "print(c)\n",
    "\n",
    "def print_stuff(Stuff):\n",
    "  for i, s in enumerate(Stuff):\n",
    "    print('Album', i,'Rating in', s)\n",
    "\n",
    "album_rating = [10.0, 8.5, 9.5]\n",
    "print_stuff(album_rating)\n",
    "\n",
    "# global and local variables\n",
    "def abc():\n",
    "  y = 5\n",
    "  print(y)\n",
    "print(abc())\n",
    "y = 10\n",
    "print(y)\n"
   ]
  },
  {
   "cell_type": "code",
   "execution_count": 51,
   "metadata": {},
   "outputs": [
    {
     "name": "stdout",
     "output_type": "stream",
     "text": [
      "Help on function add in module __main__:\n",
      "\n",
      "add(a)\n",
      "    add 1 to a\n",
      "\n",
      "1 if you add one 2\n",
      "24\n",
      "\n",
      "\n",
      "3 if you square + 1 10\n",
      "Michael Jackson is an artist\n",
      "Whitney Houston is an artist\n",
      "\n",
      "\n",
      "Michael Jackson Thriller 1980\n",
      "Oldie \n",
      "\n",
      "Country : Canada\n",
      "Province : Ontario\n",
      "City : Toronto\n",
      "\n",
      "\n"
     ]
    },
    {
     "data": {
      "text/plain": [
       "['One', 'Two', 'Three', 'Four']"
      ]
     },
     "execution_count": 51,
     "metadata": {},
     "output_type": "execute_result"
    }
   ],
   "source": [
    "# LAB\n",
    "def add(a):\n",
    "  \"\"\"\n",
    "  add 1 to a\n",
    "  \"\"\"\n",
    "  b = a + 1\n",
    "  print(a, \"if you add one\", b)\n",
    "  return(b)\n",
    "\n",
    "# getting help\n",
    "help(add)\n",
    "add(1)\n",
    "\n",
    "# multiplication\n",
    "def Mult(a, b):\n",
    "  c = a * b\n",
    "  return(c)\n",
    "  print('This is not printed')\n",
    "    \n",
    "result = Mult(12,2)\n",
    "print(result)\n",
    "\n",
    "\n",
    "# variables\n",
    "def square(a):\n",
    "  # Local variable b\n",
    "  b = 1\n",
    "  c = a * a + b\n",
    "  print(a, \"if you square + 1\", c) \n",
    "  return(c)\n",
    "\n",
    "print('\\n')\n",
    "\n",
    "# global variable\n",
    "x = 3\n",
    "# function call\n",
    "y = square(x)\n",
    "y\n",
    "\n",
    "artist = \"Michael Jackson\"\n",
    "def printer(artist):\n",
    "    global internal_var \n",
    "    internal_var= \"Whitney Houston\"\n",
    "    print(artist,\"is an artist\")\n",
    "printer(artist) \n",
    "printer(internal_var)\n",
    "\n",
    "print('\\n')\n",
    "\n",
    "# if/else satatements and loops in functions\n",
    "def type_of_album(artist, album, year_released):\n",
    "    print(artist, album, year_released)\n",
    "    if year_released > 1980:\n",
    "        return \"Modern\"\n",
    "    else:\n",
    "        return \"Oldie\"\n",
    "x = type_of_album(\"Michael Jackson\", \"Thriller\", 1980)\n",
    "print(x, '\\n')\n",
    "\n",
    "# collections and functions\n",
    "# packing into a dictionary\n",
    "def printDictionary(**args):\n",
    "  for key in args:\n",
    "    print(key + \" : \" + args[key])\n",
    "printDictionary(Country='Canada',Province='Ontario',City='Toronto')\n",
    "\n",
    "print('\\n')\n",
    "\n",
    "def addItems(list):\n",
    "    list.append(\"Three\")\n",
    "    list.append(\"Four\")\n",
    "myList = [\"One\",\"Two\"]\n",
    "addItems(myList)\n",
    "myList\n"
   ]
  },
  {
   "cell_type": "code",
   "execution_count": 53,
   "metadata": {},
   "outputs": [
    {
     "data": {
      "text/plain": [
       "('a', 3, 2, '3', 4)"
      ]
     },
     "execution_count": 53,
     "metadata": {},
     "output_type": "execute_result"
    }
   ],
   "source": [
    "# QUIZ\n",
    "\n",
    "# Come up with a function that divides the first input by the second input\n",
    "def divide(a,b):\n",
    "  return (a/b)\n",
    "divide(10,2)\n",
    "\n",
    "# Can the con function we defined before be used to add two integers or strings?\n",
    "def con(a, b):\n",
    "  return(a + b)\n",
    "con(2,5) # Yes, it can\n",
    "\n",
    "# Can the con function we defined before be used to concatenate lists or tuples?\n",
    "con (('a',3,2),('3',4)) # Yes, it can"
   ]
  },
  {
   "cell_type": "markdown",
   "metadata": {},
   "source": [
    "### Objects and Classes"
   ]
  }
 ],
 "metadata": {
  "kernelspec": {
   "display_name": "Python 3.9.7 64-bit",
   "language": "python",
   "name": "python3"
  },
  "language_info": {
   "codemirror_mode": {
    "name": "ipython",
    "version": 3
   },
   "file_extension": ".py",
   "mimetype": "text/x-python",
   "name": "python",
   "nbconvert_exporter": "python",
   "pygments_lexer": "ipython3",
   "version": "3.9.7"
  },
  "orig_nbformat": 4,
  "vscode": {
   "interpreter": {
    "hash": "243871e61548dd2ed609fcf87aa6942bfcd0706d75d437d88e0c4f6216a25827"
   }
  }
 },
 "nbformat": 4,
 "nbformat_minor": 2
}
