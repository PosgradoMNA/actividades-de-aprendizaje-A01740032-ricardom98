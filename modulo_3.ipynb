{
 "cells": [
  {
   "cell_type": "markdown",
   "metadata": {},
   "source": [
    "# Modulo 3 -Python Programming"
   ]
  },
  {
   "cell_type": "markdown",
   "metadata": {},
   "source": [
    "### Conditions and Branching"
   ]
  },
  {
   "cell_type": "code",
   "execution_count": 17,
   "metadata": {},
   "outputs": [
    {
     "name": "stdout",
     "output_type": "stream",
     "text": [
      "True\n",
      "False\n",
      "False\n",
      "True\n",
      "Do not enter\n",
      "False\n",
      "True\n",
      "True\n"
     ]
    }
   ],
   "source": [
    "# conditions in numbers\n",
    "i = 3\n",
    "print(i >= 2)\n",
    "print(i == 6)\n",
    "\n",
    "# conditions in strings\n",
    "print('AC/DC' == 'Michael Jackson')\n",
    "print('AC/DC' != 'Michael Jackson')\n",
    "\n",
    "# if statement\n",
    "age = 16\n",
    "if age > 18:\n",
    "  print('Enter')\n",
    "elif age == 18:\n",
    "  print ('Nice')  \n",
    "else:\n",
    "  print('Do not enter')\n",
    "\n",
    "# logic operators\n",
    "a = 2\n",
    "b = 3\n",
    "print (a == 3)\n",
    "print (a == 3 or a == 2)\n",
    "print (a == 2 and b == 3)"
   ]
  },
  {
   "cell_type": "code",
   "execution_count": 18,
   "metadata": {},
   "outputs": [
    {
     "name": "stdout",
     "output_type": "stream",
     "text": [
      "This album is Amazing!\n",
      "This album is Amazing!\n"
     ]
    }
   ],
   "source": [
    "# QUIZ\n",
    "# Write an if statement to determine if an album had a rating greater than 8. \n",
    "# Test it using the rating for the album “Back in Black” that had a rating of 8.5. \n",
    "# If the statement is true print \"This album is Amazing!\"\n",
    "bib_rating = 8.5\n",
    "if bib_rating > 8.0:\n",
    "  print ('This album is Amazing!')\n",
    "# If the rating is larger then eight print “this album is amazing”. If the rating is less than or equal to 8 print “this album is ok”.\n",
    "rating = 8.5\n",
    "if rating > 8:\n",
    "    print (\"This album is Amazing!\")\n",
    "elif rating <= 8:\n",
    "    print ('This album is ok')\n",
    "# determine if an album came out before 1980 or in the years: 1991 or 1993. If the condition is true print out the year the album came out.\n",
    "launch = 1980\n",
    "if launch < 1980 or launch == 1991 or launch == 1993:\n",
    "    print (launch)"
   ]
  },
  {
   "cell_type": "markdown",
   "metadata": {},
   "source": [
    "### Loops"
   ]
  },
  {
   "cell_type": "markdown",
   "metadata": {},
   "source": [
    "### Functions"
   ]
  },
  {
   "cell_type": "markdown",
   "metadata": {},
   "source": [
    "### Objects and Classes"
   ]
  }
 ],
 "metadata": {
  "kernelspec": {
   "display_name": "Python 3.9.7 64-bit",
   "language": "python",
   "name": "python3"
  },
  "language_info": {
   "codemirror_mode": {
    "name": "ipython",
    "version": 3
   },
   "file_extension": ".py",
   "mimetype": "text/x-python",
   "name": "python",
   "nbconvert_exporter": "python",
   "pygments_lexer": "ipython3",
   "version": "3.9.7"
  },
  "orig_nbformat": 4,
  "vscode": {
   "interpreter": {
    "hash": "243871e61548dd2ed609fcf87aa6942bfcd0706d75d437d88e0c4f6216a25827"
   }
  }
 },
 "nbformat": 4,
 "nbformat_minor": 2
}
